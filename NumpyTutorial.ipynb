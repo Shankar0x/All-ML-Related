{
 "cells": [
  {
   "cell_type": "code",
   "execution_count": 2,
   "metadata": {},
   "outputs": [],
   "source": [
    "import numpy as np"
   ]
  },
  {
   "cell_type": "code",
   "execution_count": 3,
   "metadata": {},
   "outputs": [
    {
     "name": "stdout",
     "output_type": "stream",
     "text": [
      "I hacked your knee\n"
     ]
    }
   ],
   "source": [
    "print(\"I hacked your knee\")"
   ]
  },
  {
   "cell_type": "markdown",
   "metadata": {},
   "source": [
    "# Why numpy over lists in python"
   ]
  },
  {
   "cell_type": "markdown",
   "metadata": {},
   "source": [
    "Notes about numpy vs lists\n",
    "1. Numpy is faster than lists because of the following reasons\n",
    "    a. Numpy uses the 32 bit encoding of each items placed in its cells. While lists use multiple fields defining that data hence takes up a huge space compared to numpy. Thus it is slower.\n",
    "    b. Numpy uses contiguous memory allocation and lists use random memory allocation\n",
    "2. Numpy is a matlab replacement(sort of)\n",
    "3. Can store images \n",
    "4. Core of pandas library"
   ]
  },
  {
   "cell_type": "code",
   "execution_count": 4,
   "metadata": {},
   "outputs": [
    {
     "name": "stdout",
     "output_type": "stream",
     "text": [
      "[1 2 3]\n"
     ]
    }
   ],
   "source": [
    "# Creating an array\n",
    "a=np.array([1,2,3])\n",
    "print(a)"
   ]
  },
  {
   "cell_type": "code",
   "execution_count": 5,
   "metadata": {},
   "outputs": [
    {
     "name": "stdout",
     "output_type": "stream",
     "text": [
      "3\n"
     ]
    }
   ],
   "source": [
    "# Return the dimesions of the array created\n",
    "adim=a.shape\n",
    "# Storing the dimesions in a list and printing it element wise\n",
    "print(adim[0])"
   ]
  },
  {
   "cell_type": "code",
   "execution_count": 6,
   "metadata": {},
   "outputs": [
    {
     "data": {
      "text/plain": [
       "1"
      ]
     },
     "execution_count": 6,
     "metadata": {},
     "output_type": "execute_result"
    }
   ],
   "source": [
    "# Also another way of getting dimesions(1D,2D,3D)\n",
    "a.ndim"
   ]
  },
  {
   "cell_type": "code",
   "execution_count": 7,
   "metadata": {},
   "outputs": [
    {
     "data": {
      "text/plain": [
       "3"
      ]
     },
     "execution_count": 7,
     "metadata": {},
     "output_type": "execute_result"
    }
   ],
   "source": [
    "# Number of elements in this array\n",
    "a.size"
   ]
  },
  {
   "cell_type": "code",
   "execution_count": 8,
   "metadata": {},
   "outputs": [
    {
     "name": "stdout",
     "output_type": "stream",
     "text": [
      "int64\n",
      "8\n"
     ]
    }
   ],
   "source": [
    "# Numpy stores items in the array by default int64\n",
    "print(a.dtype)\n",
    "# Hence item size must be 8\n",
    "print(a.itemsize)"
   ]
  },
  {
   "cell_type": "code",
   "execution_count": 9,
   "metadata": {},
   "outputs": [
    {
     "name": "stdout",
     "output_type": "stream",
     "text": [
      "[[1 2 3]\n",
      " [4 5 6]]\n"
     ]
    }
   ],
   "source": [
    "# Creating a new array of datatype int16\n",
    "b=np.array([[1,2,3],[4,5,6]],dtype='int16')\n",
    "print(b)"
   ]
  },
  {
   "cell_type": "code",
   "execution_count": 10,
   "metadata": {},
   "outputs": [
    {
     "name": "stdout",
     "output_type": "stream",
     "text": [
      "int16\n",
      "2\n"
     ]
    }
   ],
   "source": [
    "print(b.dtype)\n",
    "print(b.itemsize)"
   ]
  },
  {
   "cell_type": "code",
   "execution_count": 11,
   "metadata": {},
   "outputs": [
    {
     "name": "stdout",
     "output_type": "stream",
     "text": [
      "24\n",
      "24\n"
     ]
    }
   ],
   "source": [
    "# To get total number of bits occupied(size of each element times the total number of elements)\n",
    "print(a.itemsize*a.size)\n",
    "# or can use inbuilt feature\n",
    "print(a.nbytes)"
   ]
  },
  {
   "cell_type": "markdown",
   "metadata": {},
   "source": [
    "# Accessing Elements"
   ]
  },
  {
   "cell_type": "code",
   "execution_count": 12,
   "metadata": {},
   "outputs": [
    {
     "name": "stdout",
     "output_type": "stream",
     "text": [
      "[[ 1  2  3  4  5]\n",
      " [ 6  7  8  9 10]]\n"
     ]
    }
   ],
   "source": [
    "# Creating a 2D array\n",
    "a=np.array([[1,2,3,4,5],[6,7,8,9,10]])\n",
    "print(a)"
   ]
  },
  {
   "cell_type": "code",
   "execution_count": 13,
   "metadata": {},
   "outputs": [
    {
     "name": "stdout",
     "output_type": "stream",
     "text": [
      "8\n"
     ]
    }
   ],
   "source": [
    "# Accessing one element (python arrays are 0 indexed)\n",
    "print(a[1][2])"
   ]
  },
  {
   "cell_type": "code",
   "execution_count": 14,
   "metadata": {},
   "outputs": [
    {
     "name": "stdout",
     "output_type": "stream",
     "text": [
      "row: [1 2 3 4 5]\n",
      "Col:  [1 6]\n"
     ]
    }
   ],
   "source": [
    "# Getting an entire row\n",
    "print(\"row:\",a[0,:])\n",
    "# Getting an entire column\n",
    "print(\"Col: \",a[:,0])"
   ]
  },
  {
   "cell_type": "code",
   "execution_count": 15,
   "metadata": {},
   "outputs": [
    {
     "name": "stdout",
     "output_type": "stream",
     "text": [
      "[1 3 5]\n"
     ]
    }
   ],
   "source": [
    "# Complicated listing [startindex:endindex:skipby] IMPORTANT: endindex is NOT included\n",
    "print(a[0,0:5:2])"
   ]
  },
  {
   "cell_type": "code",
   "execution_count": 16,
   "metadata": {},
   "outputs": [
    {
     "name": "stdout",
     "output_type": "stream",
     "text": [
      "[[ 1  2  9  4  5]\n",
      " [ 6  7  8  9 10]]\n"
     ]
    }
   ],
   "source": [
    "# Changing the element in array a\n",
    "a[0][2]=9\n",
    "print(a)\n",
    "# You can replace the entire row too but match the assingment according to the shape you are working with"
   ]
  },
  {
   "cell_type": "markdown",
   "metadata": {},
   "source": [
    "# Initialising arrays"
   ]
  },
  {
   "cell_type": "code",
   "execution_count": 17,
   "metadata": {},
   "outputs": [
    {
     "name": "stdout",
     "output_type": "stream",
     "text": [
      "float64\n",
      "[0. 0. 0.]\n",
      "[0 0 0]\n",
      "[[1 1]\n",
      " [1 1]\n",
      " [1 1]]\n"
     ]
    }
   ],
   "source": [
    "# Creating an array of zeros\n",
    "# Rules: 1. Pass in only tuples. 2. You can pass in an dimensions 1D,2D etc 3. You can specify the datatype\n",
    "# By default it takes dtype as float64\n",
    "a0=np.zeros((3))\n",
    "print(a0.dtype)\n",
    "print(a0)\n",
    "a0=np.zeros((3),dtype='int64')\n",
    "print(a0)\n",
    "\n",
    "#Same rules for ones too\n",
    "a1=np.ones((3,2),dtype='int64')\n",
    "print(a1)"
   ]
  },
  {
   "cell_type": "code",
   "execution_count": 21,
   "metadata": {},
   "outputs": [
    {
     "name": "stdout",
     "output_type": "stream",
     "text": [
      "[[101 101 101]\n",
      " [101 101 101]\n",
      " [101 101 101]]\n"
     ]
    }
   ],
   "source": [
    "# Creating array with any numbers\n",
    "a0=np.full((3,3),101)\n",
    "print(a0)"
   ]
  },
  {
   "cell_type": "code",
   "execution_count": 23,
   "metadata": {},
   "outputs": [
    {
     "name": "stdout",
     "output_type": "stream",
     "text": [
      "[[101 101 101 101 101]\n",
      " [101 101 101 101 101]]\n"
     ]
    }
   ],
   "source": [
    "# Creating an array LIKE another array\n",
    "a0=np.full_like(a,101)\n",
    "print(a0)"
   ]
  },
  {
   "cell_type": "code",
   "execution_count": 29,
   "metadata": {},
   "outputs": [
    {
     "data": {
      "text/plain": [
       "array([[0.56265875, 0.75838085, 0.10758834],\n",
       "       [0.2561515 , 0.59154042, 0.20114208],\n",
       "       [0.91150588, 0.15867804, 0.9664278 ]])"
      ]
     },
     "execution_count": 29,
     "metadata": {},
     "output_type": "execute_result"
    }
   ],
   "source": [
    "# IMPORTANT Creating random arrays\n",
    "np.random.rand(3,3)\n",
    "# Notice that the dimensions of the array is NOT tuples and rather just two numbers\n",
    "# rand creates an array with elements between 0 and 1"
   ]
  },
  {
   "cell_type": "code",
   "execution_count": 33,
   "metadata": {},
   "outputs": [
    {
     "data": {
      "text/plain": [
       "array([[0.57512974, 0.17841666, 0.60295926, 0.32734275, 0.07126443],\n",
       "       [0.87722984, 0.11384582, 0.55760342, 0.72064414, 0.02150994]])"
      ]
     },
     "execution_count": 33,
     "metadata": {},
     "output_type": "execute_result"
    }
   ],
   "source": [
    "# If you want to pass in the dimesions of the array as a shape then use\n",
    "np.random.random_sample(a.shape)\n",
    "# again elements will be between 0 and 1"
   ]
  },
  {
   "cell_type": "code",
   "execution_count": 37,
   "metadata": {},
   "outputs": [
    {
     "data": {
      "text/plain": [
       "array([[-5, -7, -8],\n",
       "       [ 4, -1,  1],\n",
       "       [-6, -6, -2]])"
      ]
     },
     "execution_count": 37,
     "metadata": {},
     "output_type": "execute_result"
    }
   ],
   "source": [
    "# If you want random INTEGERS\n",
    "# (start integer, end integer, dimension of the matrix)\n",
    "# IMPORTANT end integer is NOT included\n",
    "np.random.randint(-10,9,size=(3,3))"
   ]
  },
  {
   "cell_type": "code",
   "execution_count": 39,
   "metadata": {},
   "outputs": [
    {
     "data": {
      "text/plain": [
       "array([[1, 0, 0],\n",
       "       [0, 1, 0],\n",
       "       [0, 0, 1]])"
      ]
     },
     "execution_count": 39,
     "metadata": {},
     "output_type": "execute_result"
    }
   ],
   "source": [
    "# The identity matrix by default has the elements in float64\n",
    "np.identity(3,dtype='int64')\n"
   ]
  },
  {
   "cell_type": "code",
   "execution_count": 49,
   "metadata": {},
   "outputs": [
    {
     "name": "stdout",
     "output_type": "stream",
     "text": [
      "Row wise:  [[1 1 1 2 2 2 3 3 3]]\n",
      "Column wise: \n",
      "[[1 2 3]\n",
      " [1 2 3]\n",
      " [1 2 3]]\n"
     ]
    }
   ],
   "source": [
    "# Repeat \n",
    "arr=np.array([[1,2,3]])\n",
    "# We are repeating the array 3 times and axis 0 is across the rows vertically downwards\n",
    "print(\"Row wise: \",np.repeat(arr,3,axis=1))\n",
    "print(\"Column wise: \")\n",
    "print(np.repeat(arr,3,axis=0))"
   ]
  },
  {
   "attachments": {
    "image.png": {
     "image/png": "[encoded data removed]"
    }
   },
   "cell_type": "markdown",
   "metadata": {},
   "source": [
    "# Challenge to build this image\n",
    "![image.png](attachment:image.png)"
   ]
  },
  {
   "cell_type": "code",
   "execution_count": 55,
   "metadata": {},
   "outputs": [
    {
     "name": "stdout",
     "output_type": "stream",
     "text": [
      "[[1 1 1 1 1]\n",
      " [1 0 0 0 1]\n",
      " [1 0 9 0 1]\n",
      " [1 0 0 0 1]\n",
      " [1 1 1 1 1]]\n"
     ]
    }
   ],
   "source": [
    "# Building this array\n",
    "ch=np.ones((5,5),dtype='int64')\n",
    "ch[1:4,1:4]=[0,0,0]\n",
    "ch[2,2]=9\n",
    "print(ch)"
   ]
  },
  {
   "cell_type": "markdown",
   "metadata": {},
   "source": [
    "# Be very careful while copying arrays"
   ]
  },
  {
   "cell_type": "code",
   "execution_count": 57,
   "metadata": {},
   "outputs": [
    {
     "name": "stdout",
     "output_type": "stream",
     "text": [
      "[100   2   3]\n",
      "[1 2 3]\n"
     ]
    }
   ],
   "source": [
    "a=np.array([1,2,3])\n",
    "b=a.copy()\n",
    "# If .copy is not used then it will reflect on original array too!\n",
    "b[0]=100\n",
    "print(b)\n",
    "print(a)"
   ]
  },
  {
   "cell_type": "markdown",
   "metadata": {},
   "source": [
    "# Mathematics"
   ]
  },
  {
   "cell_type": "code",
   "execution_count": 63,
   "metadata": {},
   "outputs": [
    {
     "name": "stdout",
     "output_type": "stream",
     "text": [
      "[[1. 1.]\n",
      " [1. 1.]]\n",
      "[[2 2]\n",
      " [2 2]]\n",
      "[[2. 2.]\n",
      " [2. 2.]]\n",
      "[[9.]\n",
      " [9.]]\n"
     ]
    }
   ],
   "source": [
    "# Difference between * and mat mul in numpy\n",
    "a=np.ones((2,2))\n",
    "print(a)\n",
    "b=np.full((2,2),2)\n",
    "print(b)\n",
    "print(a*b)\n",
    "# Mat mul\n",
    "a=np.ones((2,3))\n",
    "b=np.full((3,1),3)\n",
    "print(np.matmul(a,b))"
   ]
  },
  {
   "cell_type": "code",
   "execution_count": 64,
   "metadata": {},
   "outputs": [
    {
     "data": {
      "text/plain": [
       "1.0"
      ]
     },
     "execution_count": 64,
     "metadata": {},
     "output_type": "execute_result"
    }
   ],
   "source": [
    "# determinant of a matrix\n",
    "c=np.identity(3)\n",
    "np.linalg.det(c)"
   ]
  },
  {
   "cell_type": "code",
   "execution_count": 66,
   "metadata": {},
   "outputs": [
    {
     "name": "stdout",
     "output_type": "stream",
     "text": [
      "[[ 2  4  6]\n",
      " [ 8 10 12]]\n",
      "[[ 2  4  6]\n",
      " [ 8 10 12]]\n"
     ]
    }
   ],
   "source": [
    "# Element wise multiplication in numpy\n",
    "# method 1\n",
    "a=np.array([[1,2,3],[4,5,6]])\n",
    "b=np.full((2,3),2)\n",
    "print(a*b)\n",
    "# method 2\n",
    "print(np.multiply(a,b))"
   ]
  },
  {
   "cell_type": "code",
   "execution_count": 74,
   "metadata": {},
   "outputs": [
    {
     "name": "stdout",
     "output_type": "stream",
     "text": [
      "[[ -0.74024245   0.28183196   1.7971014 ]\n",
      " [ 24.18861133 -16.79972812 -21.90061103]\n",
      " [ -5.0220534    6.36206563   4.44119235]]\n",
      "[[0.11111111 0.11111111 0.11111111]\n",
      " [0.11111111 0.11111111 0.11111111]\n",
      " [0.11111111 0.11111111 0.11111111]]\n"
     ]
    }
   ],
   "source": [
    "# Finding the inverse of a matrix (EXIST ONLY FOR SQUARE MATRIX)\n",
    "a=np.random.rand(3,3)\n",
    "print(np.linalg.inv(a))\n",
    "# If the matrix is singular then pseudo inverse can be applied\n",
    "a=np.ones((3,3))\n",
    "# In case the matrix is invertible then pinv and inv give the same answer\n",
    "print(np.linalg.pinv(a))\n",
    "# Pseudo inverse works for non sq mat too!"
   ]
  },
  {
   "cell_type": "markdown",
   "metadata": {},
   "source": [
    "## Statistics"
   ]
  },
  {
   "cell_type": "code",
   "execution_count": 81,
   "metadata": {},
   "outputs": [
    {
     "name": "stdout",
     "output_type": "stream",
     "text": [
      "1\n",
      "6\n",
      "[1 2 3]\n",
      "[3 6]\n"
     ]
    }
   ],
   "source": [
    "# min and max \n",
    "a=np.array([[1,2,3],[4,5,6]])\n",
    "print(np.min(a))\n",
    "print(np.max(a))\n",
    "# Finding the row-wise or column-wise max and min\n",
    "print(np.min(a,axis=0))\n",
    "# the above code...\n",
    "# Finds the min in column 0 and returns that row\n",
    "print(np.max(a,axis=1))\n",
    "# Finds the max in row 0 and returns that col"
   ]
  },
  {
   "cell_type": "markdown",
   "metadata": {},
   "source": [
    "# Reorganizing"
   ]
  },
  {
   "cell_type": "code",
   "execution_count": 86,
   "metadata": {},
   "outputs": [
    {
     "name": "stdout",
     "output_type": "stream",
     "text": [
      "[[1]\n",
      " [2]\n",
      " [3]\n",
      " [4]\n",
      " [5]\n",
      " [6]]\n",
      "[[1 2]\n",
      " [3 4]\n",
      " [5 6]]\n"
     ]
    }
   ],
   "source": [
    "# reshape\n",
    "a=np.array([[1,2,3],[4,5,6]])\n",
    "print(np.reshape(a,(6,1)))\n",
    "print(np.reshape(a,(3,2)))\n",
    "# Make sure product of target dimensions equals the total number of elements"
   ]
  },
  {
   "cell_type": "code",
   "execution_count": 91,
   "metadata": {},
   "outputs": [
    {
     "name": "stdout",
     "output_type": "stream",
     "text": [
      "[[0. 0. 0.]\n",
      " [1. 1. 1.]]\n"
     ]
    }
   ],
   "source": [
    "# Vertical stacking(ensure second dim are equal)\n",
    "v1=np.zeros((1,3))\n",
    "v2=np.ones((1,3))\n",
    "# NOTICE that v1 and v2 are passed as tuples!\n",
    "print(np.vstack((v1,v2)))"
   ]
  },
  {
   "cell_type": "code",
   "execution_count": 94,
   "metadata": {},
   "outputs": [
    {
     "name": "stdout",
     "output_type": "stream",
     "text": [
      "[[0. 0. 0. 1. 1. 1. 0. 0. 0.]]\n"
     ]
    }
   ],
   "source": [
    "# Horizontal stacking(Ensure first dim are equal)\n",
    "print(np.hstack((v1,v2,v1)))"
   ]
  },
  {
   "cell_type": "markdown",
   "metadata": {},
   "source": [
    "# Miscellaneous"
   ]
  },
  {
   "cell_type": "code",
   "execution_count": null,
   "metadata": {},
   "outputs": [],
   "source": [
    "# loading a data from a file without using pandas\n",
    "numarr=np.genfromtxt('dataset.txt',delimiter=',')\n",
    "# dataset.txt looks like this\n",
    "'''\n",
    "1,2,3,4,6,5,4,\n",
    "5,6,8,0,0,1,3,\n",
    "7,8,9,2,8,0,1\n",
    "'''\n",
    "# But bydefault it will all be float hence changeit\n",
    "numarr=numarr.astype('int32')\n"
   ]
  },
  {
   "cell_type": "code",
   "execution_count": 96,
   "metadata": {},
   "outputs": [
    {
     "name": "stdout",
     "output_type": "stream",
     "text": [
      "[[1 2 3]\n",
      " [4 5 6]]\n",
      "[[False False False]\n",
      " [False  True  True]]\n"
     ]
    }
   ],
   "source": [
    "# Boolean masking\n",
    "print(a)\n",
    "# All elements greater than 4 will be true\n",
    "print(a>4)"
   ]
  },
  {
   "cell_type": "code",
   "execution_count": 107,
   "metadata": {},
   "outputs": [
    {
     "name": "stdout",
     "output_type": "stream",
     "text": [
      "[1 2 3]\n"
     ]
    }
   ],
   "source": [
    "# Advanced indexing\n",
    "# NUMPY ALLOWS LIST OF INDEX\n",
    "a=np.array([1,2,3,4,5,6,7,8,9,10])\n",
    "print(a[[0,1,2]])\n",
    "# When you try to do this for 2d arrays then axis 0 is considered by default-> rows will be returned"
   ]
  },
  {
   "cell_type": "code",
   "execution_count": 122,
   "metadata": {},
   "outputs": [
    {
     "name": "stdout",
     "output_type": "stream",
     "text": [
      "Whole mat:  True\n",
      "Column wise:  [False False  True]\n",
      "Row wise:  [ True  True False  True  True]\n"
     ]
    }
   ],
   "source": [
    "# any function\n",
    "a=np.array([[1,2,3],[4,5,6],[7,8,9],[10,11,12],[13,14,15]])\n",
    "# random shuffling the data\n",
    "np.random.shuffle(a)\n",
    "# finding if there are any element greater in whole mat\n",
    "print(\"Whole mat: \",np.any(a>4))\n",
    "# finding for every column\n",
    "print(\"Column wise: \",np.any(a>14,axis=0))\n",
    "# finding for every row\n",
    "print(\"Row wise: \",np.any(a>4,axis=1))"
   ]
  },
  {
   "cell_type": "code",
   "execution_count": 126,
   "metadata": {},
   "outputs": [
    {
     "name": "stdout",
     "output_type": "stream",
     "text": [
      "col wise:  [False False False]\n"
     ]
    }
   ],
   "source": [
    "# all function\n",
    "# similar to any but all of them must be larger\n",
    "print(\"col wise: \",np.all(a>4,axis=0))"
   ]
  },
  {
   "attachments": {
    "image-2.png": {
     "image/png": "[encoded data removed]"
    }
   },
   "cell_type": "markdown",
   "metadata": {},
   "source": [
    "# Index this!\n",
    "![image-2.png](attachment:image-2.png)"
   ]
  },
  {
   "cell_type": "code",
   "execution_count": 141,
   "metadata": {},
   "outputs": [
    {
     "name": "stdout",
     "output_type": "stream",
     "text": [
      "[ 2  8 14 20]\n",
      "[[ 4  5]\n",
      " [24 25]\n",
      " [29 30]]\n"
     ]
    }
   ],
   "source": [
    "arr=np.array([1,2,3,4,5,6,7,8,9,10,11,12,13,14,15,16,17,18,19,20,21,22,23,24,25,26,27,28,29,30])\n",
    "arr=np.reshape(arr,(6,5))\n",
    "# VERY VERY IMPORTANT ADVANCED LIST BASED INDEXING\n",
    "print(arr[[0,1,2,3],[1,2,3,4]])\n",
    "print(arr[[0,4,5],3:])"
   ]
  },
  {
   "cell_type": "code",
   "execution_count": null,
   "metadata": {},
   "outputs": [],
   "source": []
  }
 ],
 "metadata": {
  "kernelspec": {
   "display_name": "Python 3 (ipykernel)",
   "language": "python",
   "name": "python3"
  },
  "language_info": {
   "codemirror_mode": {
    "name": "ipython",
    "version": 3
   },
   "file_extension": ".py",
   "mimetype": "text/x-python",
   "name": "python",
   "nbconvert_exporter": "python",
   "pygments_lexer": "ipython3",
   "version": "3.8.10"
  },
  "vscode": {
   "interpreter": {
    "hash": "97cc609b13305c559618ec78a438abc56230b9381f827f22d070313b9a1f3777"
   }
  }
 },
 "nbformat": 4,
 "nbformat_minor": 2
}
